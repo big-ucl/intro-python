{
 "cells": [
  {
   "cell_type": "markdown",
   "metadata": {
    "slideshow": {
     "slide_type": "slide"
    }
   },
   "source": [
    "# Introduction to Python\n",
    "\n",
    "![python logo](img/python-logo.png)"
   ]
  },
  {
   "cell_type": "markdown",
   "metadata": {
    "slideshow": {
     "slide_type": "slide"
    }
   },
   "source": [
    "## Overview\n",
    "\n",
    "1. What is Python?\n",
    "2. Why should you learn Python?\n",
    "3. What is Python used for?\n",
    "4. Python and open Source\n",
    "5. Getting started"
   ]
  },
  {
   "cell_type": "markdown",
   "metadata": {
    "slideshow": {
     "slide_type": "slide"
    }
   },
   "source": [
    "## What is Python?\n",
    "\n",
    "- [Python](https://www.python.org/) is a high-level, interpreted programming language.\n",
    "- Created in the late 1980s.\n",
    "- Named after the British comedy group Monty Python.\n",
    "- Known for its simplicity and readability.\n",
    "- Has a large and active community.\n",
    "\n",
    "![Monty Python](img/monty_python.jpg)\n"
   ]
  },
  {
   "cell_type": "markdown",
   "metadata": {
    "slideshow": {
     "slide_type": "slide"
    }
   },
   "source": [
    "### A quick demo\n",
    "\n",
    "What do we mean by an interpreted language?"
   ]
  },
  {
   "cell_type": "code",
   "execution_count": null,
   "metadata": {
    "slideshow": {
     "slide_type": "fragment"
    }
   },
   "outputs": [],
   "source": []
  },
  {
   "cell_type": "markdown",
   "metadata": {
    "slideshow": {
     "slide_type": "slide"
    }
   },
   "source": [
    "## Why should you learn Python?\n",
    "\n",
    "- Python is one of the most popular programming languages.\n",
    "- Versatile and used in various fields. \n",
    "- Easy to learn, with focus on interpretable and readable code. \n",
    "- Excellent for data analysis, scientific computing, and automation.\n",
    "- (Very!) high demand for Python skills in the job market."
   ]
  },
  {
   "cell_type": "markdown",
   "metadata": {
    "slideshow": {
     "slide_type": "slide"
    }
   },
   "source": [
    "## What Python can do\n",
    "\n",
    "Python is a general-purpose programming language, and you can do pretty much anything in Python! However, there are many functionalities that Python is particularly useful for, thanks to open source *libraries*. A few that are relevant to data-driven decision making are given below:\n",
    "- **Data Analysis**: Analyze and visualize data using libraries like `Pandas` and `Matplotlib`.\n",
    "- **Machine learning**: Python is extremely versatile for ML tasks, including classical ML (in `scikit-learn`) and interfaces to commonly used deep learning libraries (e.g. `tensorflow`, `XGBoost`)\n",
    "- **Optimisation**: Solve solutions to complex problems using libraries like `scipy.optimize` and ``\n",
    "- **Simulation**: Create large-scale simulations, including agent-based models (`Mesa`) and traffic microsimulation (`SUMO`).\n",
    "- **Web Development**: Interact with ild websites and web applications using frameworks like Django or Flask.\n",
    "\n",
    "Overall, this makes it incredibly useful for supporting scientific research!"
   ]
  },
  {
   "cell_type": "markdown",
   "metadata": {
    "slideshow": {
     "slide_type": "slide"
    }
   },
   "source": [
    "## Python and open source\n",
    "\n",
    "- Python is *open source*, meaning it's free and has a supportive community which encourages collaboration and knowledge sharing.\n",
    "- Most libraries and tools for Python are open source.\n",
    "- Researchers can freely share code using public repositories, e.g. with [*github*](https://github.com/) and even publish their code as a package for others to use directly on [PyPi](https://pypi.org/)."
   ]
  },
  {
   "cell_type": "markdown",
   "metadata": {
    "slideshow": {
     "slide_type": "slide"
    }
   },
   "source": [
    "## Clearing up some common confusion...\n",
    "\n",
    "- **Python**: The programming language itself, which provides the core functionality and syntax for writing code.\n",
    "\n",
    "- **IPython**: An interactive Python shell with enhanced features like tab-completion, easy debugging, and inline documentation. It's a more user-friendly way to work with Python in a terminal.\n",
    "\n",
    "- **Jupyter**: An interactive computing environment that allows you to create and share documents containing live code, equations, visualizations, and narrative text. It supports multiple programming languages, including Python. Jupyter Notebook is a popular interface for data analysis and research.\n",
    "\n",
    "   - **Jupyter Notebook**: A web-based application that lets you create and share documents containing live code, equations, visualizations, and narrative text. It's widely used in data science and education.\n",
    "   \n",
    "   - **Jupyter Lab**: The next-generation interface for Jupyter, providing a more integrated environment with features like a file explorer, terminals, and text editors.\n",
    "\n",
    "- **Anaconda**: A distribution of Python and a collection of data science-related packages and libraries (including IPython and Jupyter). It simplifies package management and is popular in data science and scientific computing. "
   ]
  },
  {
   "cell_type": "markdown",
   "metadata": {
    "slideshow": {
     "slide_type": "slide"
    }
   },
   "source": [
    "## Getting started - the basics\n",
    "\n",
    "- The exercises in this repository can be run directly in your browser using [binder](https://mybinder.org/), no need to install anything!\n",
    "- If you get stuck, remember Google (or your preferred search engine!) can help when you are stuck, but...\n",
    "- ...you might be trying to solve the wrong problem! You need top-down learning to truly improve your coding - make sure refer to the [official documentation](https://docs.python.org/3/), as well as thousands of useful tutorials online (many on specific topics)\n",
    "- Someone else has probably had the same problem - try look on [Stack Overflow](https://stackoverflow.com/)!"
   ]
  },
  {
   "cell_type": "markdown",
   "metadata": {
    "slideshow": {
     "slide_type": "slide"
    }
   },
   "source": [
    "## Going deeper\n",
    "\n",
    "- Eventually, you will probably want to install Python on your own machine. We recommend [anaconda](https://anaconda.org/) which installs many of the libraries you will need for scientific computing and data science. \n",
    "- Jupyter works great for interactive documents, but for complex code, a proper IDE will make things much easier! We use [Visual Studio Code](https://code.visualstudio.com/) (vscode for short), which is cross-platform (works on Mac, Windows, Linux), fully open source, and supports way more than just Python - but there are other great alternatives ([Spyder](https://www.spyder-ide.org/), [PyCharm](https://www.jetbrains.com/pycharm/), [atom](https://github.com/atom))\n",
    "- This intro is just the start - get stuck in with real problems (or even contribute to an open source project!)"
   ]
  }
 ],
 "metadata": {
  "kernelspec": {
   "display_name": "learn",
   "language": "python",
   "name": "python3"
  },
  "language_info": {
   "name": "python",
   "version": "3.10.12"
  },
  "orig_nbformat": 4
 },
 "nbformat": 4,
 "nbformat_minor": 2
}
